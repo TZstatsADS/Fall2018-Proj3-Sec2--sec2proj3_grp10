{
 "cells": [
  {
   "cell_type": "code",
   "execution_count": 3,
   "metadata": {},
   "outputs": [
    {
     "name": "stderr",
     "output_type": "stream",
     "text": [
      "/anaconda3/lib/python3.6/site-packages/ipykernel_launcher.py:32: RuntimeWarning: invalid value encountered in sqrt\n",
      "/anaconda3/lib/python3.6/site-packages/ipykernel_launcher.py:55: RuntimeWarning: invalid value encountered in sqrt\n"
     ]
    }
   ],
   "source": [
    "import math\n",
    "import numpy as np\n",
    "import csv\n",
    "import cv2\n",
    "from os import listdir\n",
    "import scipy.cluster.vq as vq\n",
    "from sklearn.cluster import MiniBatchKMeans\n",
    "import array\n",
    "import glob\n",
    "import os\n",
    "import pandas as pd \n",
    "from matplotlib.pyplot import imshow\n",
    "from PIL import Image, ImageFilter\n",
    "\n",
    "img_path = '/Users/zhaichun/Desktop/GitHub/Fall2018-Proj3-Sec2--sec2proj3_grp10/data/train_set/LR/'\n",
    "image_list = listdir(img_path)\n",
    "image_list = image_list[1:len(image_list)]\n",
    "\n",
    "image_dir_list = []\n",
    "for i in range(len(image_list)):\n",
    "    image_dir_list.append(img_path+image_list[i])\n",
    "\n",
    "descs =np.empty((0,128))\n",
    "eps = 1e-7\n",
    "for i in range(len(image_dir_list)):\n",
    "    img = cv2.imread(image_dir_list[i])\n",
    "    img_gray = cv2.cvtColor(img, cv2.COLOR_BGR2GRAY)\n",
    "    sift = cv2.xfeatures2d.SIFT_create()\n",
    "    kp = sift.detect(img_gray,None)\n",
    "    kp,des = sift.compute(img_gray,kp)\n",
    "    des /= (des.sum(axis=1, keepdims=True) + eps)\n",
    "    des = np.sqrt(des)\n",
    "    descs = np.vstack((descs,des))\n",
    "    \n",
    "n_cluster = 1000\n",
    "kmeans_sift = MiniBatchKMeans(init='k-means++', n_clusters=n_cluster, batch_size=100,n_init=10, \n",
    "                              init_size = 3*n_cluster,max_no_improvement=20, verbose=0,compute_labels= False).fit(descs)\n",
    "kmeans_center = kmeans_sift.cluster_centers_\n",
    "\n",
    "def computeHistograms(kmeans_center, descriptors):\n",
    "    code, dist = vq.vq(descriptors, kmeans_center)\n",
    "    histogram_of_words, bin_edges = np.histogram(code,\n",
    "                                                 bins=range(kmeans_center.shape[0] + 1),\n",
    "                                                 normed=True)\n",
    "    return histogram_of_words\n",
    "\n",
    "feature = np.empty((0,n_cluster))\n",
    "for i in range(len(image_dir_list)):\n",
    "    img = cv2.imread(image_dir_list[i])\n",
    "    img_gray = cv2.cvtColor(img, cv2.COLOR_BGR2GRAY)\n",
    "    sift = cv2.xfeatures2d.SIFT_create()\n",
    "    kp = sift.detect(img_gray,None)\n",
    "    kp,des = sift.compute(img_gray,kp)\n",
    "    des /= (des.sum(axis=1, keepdims=True) + eps)\n",
    "    des = np.sqrt(des)\n",
    "    result = computeHistograms(kmeans_center,des)\n",
    "    feature = np.vstack((feature,result))\n",
    "\n",
    "label = np.array(image_list)\n",
    "label = label.reshape(len(image_list),1)\n",
    "feature_label = np.concatenate((label, feature), 1)\n",
    "feature_list = feature_label.tolist()\n",
    "\n",
    "with open(\"/Users/zhaichun/Desktop/rtsift_feature.csv\", \"w\") as f:\n",
    "    writer = csv.writer(f,lineterminator='\\n')\n",
    "    writer.writerows(feature_list)"
   ]
  },
  {
   "cell_type": "code",
   "execution_count": null,
   "metadata": {},
   "outputs": [],
   "source": [
    "des.sum(axis=1, keepdims=True) + eps"
   ]
  },
  {
   "cell_type": "code",
   "execution_count": 2,
   "metadata": {},
   "outputs": [],
   "source": [
    "from __future__ import division"
   ]
  },
  {
   "cell_type": "code",
   "execution_count": null,
   "metadata": {},
   "outputs": [],
   "source": [
    "np.max(des)"
   ]
  },
  {
   "cell_type": "code",
   "execution_count": null,
   "metadata": {},
   "outputs": [],
   "source": [
    "np.sqrt(des)"
   ]
  },
  {
   "cell_type": "code",
   "execution_count": null,
   "metadata": {},
   "outputs": [],
   "source": []
  }
 ],
 "metadata": {
  "kernelspec": {
   "display_name": "Python 3",
   "language": "python",
   "name": "python3"
  },
  "language_info": {
   "codemirror_mode": {
    "name": "ipython",
    "version": 3
   },
   "file_extension": ".py",
   "mimetype": "text/x-python",
   "name": "python",
   "nbconvert_exporter": "python",
   "pygments_lexer": "ipython3",
   "version": "3.6.5"
  }
 },
 "nbformat": 4,
 "nbformat_minor": 2
}
